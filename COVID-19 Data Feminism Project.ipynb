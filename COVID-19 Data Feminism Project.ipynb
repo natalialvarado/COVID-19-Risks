{
 "cells": [
  {
   "cell_type": "markdown",
   "metadata": {},
   "source": [
    "# COVID-19 Risk Calculator\n",
    "By Natalia Alvarado"
   ]
  },
  {
   "cell_type": "code",
   "execution_count": null,
   "metadata": {},
   "outputs": [],
   "source": [
    "risk = 0\n",
    "print(\"The COVID-19 risk by socioeconomic factors can be calculated using a range of 0-6, 6 being the highest.\")\n",
    "print(\"For the following questions, enter yes or no:\")\n",
    "insurance = input(\"Do you have insurance? \")\n",
    "if insurance == \"no\":\n",
    "    risk += 1\n",
    "income = input(\"Are you considered low-income? \")\n",
    "if income == \"yes\":\n",
    "    risk += 1\n",
    "ethnicity = input(\"Is your ethnicity white? \")\n",
    "if ethnicity == \"no\":\n",
    "    risk += 1\n",
    "immigrant = input(\"Are you a US citizen? \")\n",
    "if immigrant == \"no\":\n",
    "    risk +=1\n",
    "english = input(\"Do you speak English very well? \")\n",
    "if english == \"no\":\n",
    "    risk += 1\n",
    "internet = input(\"Do you have internet at home? \")\n",
    "if internet == \"no\":\n",
    "    risk += 1\n",
    "\n",
    "print()\n",
    "print(\"COVID-19 Risk by Socioeconomic Factors:\",risk"
   ]
  }
 ],
 "metadata": {
  "kernelspec": {
   "display_name": "Python 3",
   "language": "python",
   "name": "python3"
  },
  "language_info": {
   "codemirror_mode": {
    "name": "ipython",
    "version": 3
   },
   "file_extension": ".py",
   "mimetype": "text/x-python",
   "name": "python",
   "nbconvert_exporter": "python",
   "pygments_lexer": "ipython3",
   "version": "3.7.3"
  }
 },
 "nbformat": 4,
 "nbformat_minor": 2
}
